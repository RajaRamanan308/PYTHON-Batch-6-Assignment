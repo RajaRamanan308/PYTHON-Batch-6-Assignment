{
 "cells": [
  {
   "cell_type": "code",
   "execution_count": 1,
   "metadata": {},
   "outputs": [
    {
     "name": "stdout",
     "output_type": "stream",
     "text": [
      "Find all occurrence of substring in the given string\n"
     ]
    }
   ],
   "source": [
    "print(\"Find all occurrence of substring in the given string\")"
   ]
  },
  {
   "cell_type": "code",
   "execution_count": 3,
   "metadata": {},
   "outputs": [
    {
     "name": "stdout",
     "output_type": "stream",
     "text": [
      "1\n",
      "1\n",
      "1\n"
     ]
    }
   ],
   "source": [
    "str1 = \"What we think we became; we are Python programmer\"\n",
    "print(str1 .count(\"think\"))\n",
    "print(str1 .count(\"think\",0,15))\n",
    "print(str1 .count(\"i\"))"
   ]
  },
  {
   "cell_type": "code",
   "execution_count": 4,
   "metadata": {},
   "outputs": [
    {
     "name": "stdout",
     "output_type": "stream",
     "text": [
      "islower()  with different kind of strings\n"
     ]
    }
   ],
   "source": [
    "print(\"islower()  with different kind of strings\")"
   ]
  },
  {
   "cell_type": "code",
   "execution_count": 10,
   "metadata": {},
   "outputs": [
    {
     "name": "stdout",
     "output_type": "stream",
     "text": [
      "True\n",
      "False\n"
     ]
    }
   ],
   "source": [
    "string = \"PYTHON PROGRAM IS EASY TO LEARN IS FULL LOWER\"\n",
    "print(string. isupper())\n",
    "string =\"Python program is easy to learn is full lower\"\n",
    "print(string. isupper())"
   ]
  },
  {
   "cell_type": "code",
   "execution_count": 12,
   "metadata": {},
   "outputs": [
    {
     "name": "stdout",
     "output_type": "stream",
     "text": [
      "False\n",
      "True\n"
     ]
    }
   ],
   "source": [
    "string = \"PYTHON PROGRAM IS EASY TO LEARN IS FULL LOWER\"\n",
    "print(string. islower())\n",
    "string =\"python program is easy to learn is full lower\"\n",
    "print(string. islower())"
   ]
  },
  {
   "cell_type": "code",
   "execution_count": null,
   "metadata": {},
   "outputs": [],
   "source": []
  }
 ],
 "metadata": {
  "kernelspec": {
   "display_name": "Python 3",
   "language": "python",
   "name": "python3"
  },
  "language_info": {
   "codemirror_mode": {
    "name": "ipython",
    "version": 3
   },
   "file_extension": ".py",
   "mimetype": "text/x-python",
   "name": "python",
   "nbconvert_exporter": "python",
   "pygments_lexer": "ipython3",
   "version": "3.7.6"
  }
 },
 "nbformat": 4,
 "nbformat_minor": 4
}
