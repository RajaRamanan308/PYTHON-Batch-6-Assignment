{
 "cells": [
  {
   "cell_type": "code",
   "execution_count": 1,
   "metadata": {},
   "outputs": [
    {
     "name": "stdout",
     "output_type": "stream",
     "text": [
      "Sort increasing order but all zeros should be at right hand side\n"
     ]
    }
   ],
   "source": [
    "print(\"Sort increasing order but all zeros should be at right hand side\")"
   ]
  },
  {
   "cell_type": "code",
   "execution_count": 2,
   "metadata": {},
   "outputs": [
    {
     "name": "stdout",
     "output_type": "stream",
     "text": [
      "['0', '0', '0', '0', '0', '1', '1', '1', '10', '2', '2', '3', '4', '4', '56', '56']\n"
     ]
    }
   ],
   "source": [
    "a = (\"0\",\"1\",\"2\",\"10\",\"4\",\"1\",\"0\",\"56\",\"2\",\"0\",\"1\",\"3\",\"0\",\"56\",\"0\",\"4\")\n",
    "x = sorted(a)\n",
    "print(x)"
   ]
  },
  {
   "cell_type": "code",
   "execution_count": 3,
   "metadata": {},
   "outputs": [
    {
     "name": "stdout",
     "output_type": "stream",
     "text": [
      "list1 = [10,20,40,60,70,80] sorted list\n",
      "list2 = [5,15,25,35,45,60] sorted list\n",
      "merge these two sorted list produce one sorted list, but use only one loop either while or for only one time\n"
     ]
    }
   ],
   "source": [
    "print(\"list1 = [10,20,40,60,70,80] sorted list\")\n",
    "print(\"list2 = [5,15,25,35,45,60] sorted list\")\n",
    "print(\"merge these two sorted list produce one sorted list, but use only one loop either while or for only one time\") \n"
   ]
  },
  {
   "cell_type": "code",
   "execution_count": 4,
   "metadata": {},
   "outputs": [
    {
     "name": "stdout",
     "output_type": "stream",
     "text": [
      "The original list 1 is : [10, 20, 40, 60, 70, 80]\n",
      "The original list 2 is : [5, 15, 25, 35, 45, 60]\n",
      "the combined sorted list is [5, 10, 15, 20, 25, 35, 40, 45, 60, 60, 70, 80]\n"
     ]
    }
   ],
   "source": [
    "test_list1 = [10,20,40, 60,70,80]\n",
    "test_list2 = [5,15,25,35,45,60]\n",
    "print(\"The original list 1 is : \" + str(test_list1))\n",
    "print(\"The original list 2 is : \" + str(test_list2))\n",
    "res = sorted(test_list1 + test_list2)\n",
    "print(\"the combined sorted list is \" + str(res))"
   ]
  },
  {
   "cell_type": "code",
   "execution_count": null,
   "metadata": {},
   "outputs": [],
   "source": []
  }
 ],
 "metadata": {
  "kernelspec": {
   "display_name": "Python 3",
   "language": "python",
   "name": "python3"
  },
  "language_info": {
   "codemirror_mode": {
    "name": "ipython",
    "version": 3
   },
   "file_extension": ".py",
   "mimetype": "text/x-python",
   "name": "python",
   "nbconvert_exporter": "python",
   "pygments_lexer": "ipython3",
   "version": "3.7.6"
  }
 },
 "nbformat": 4,
 "nbformat_minor": 4
}
