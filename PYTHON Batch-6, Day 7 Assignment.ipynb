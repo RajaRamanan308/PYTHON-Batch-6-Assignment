{
 "cells": [
  {
   "cell_type": "code",
   "execution_count": 6,
   "metadata": {},
   "outputs": [
    {
     "name": "stdout",
     "output_type": "stream",
     "text": [
      "[1, 2, 3, 4, 5, 7, 8]\n",
      "['a', 'b', 'c', 'd', 'e', 'f', 'g']\n",
      "convert to a dictionary\n",
      "in one line code using list comprehension, without using zip method)\n"
     ]
    }
   ],
   "source": [
    "list1 = [1,2,3,4,5,7,8]\n",
    "list2 = [\"a\",\"b\",\"c\",\"d\",\"e\",\"f\",\"g\"]\n",
    "print(list1)\n",
    "print(list2)\n",
    "print(\"convert to a dictionary\")\n",
    "print(\"in one line code using list comprehension, without using zip method)\")"
   ]
  },
  {
   "cell_type": "code",
   "execution_count": 4,
   "metadata": {},
   "outputs": [
    {
     "name": "stdout",
     "output_type": "stream",
     "text": [
      "Using using dictionary comprehension\n"
     ]
    }
   ],
   "source": [
    "print(\"Using using dictionary comprehension\")"
   ]
  },
  {
   "cell_type": "code",
   "execution_count": 5,
   "metadata": {},
   "outputs": [
    {
     "name": "stdout",
     "output_type": "stream",
     "text": [
      " LIST INDEX IS OUT OF RANGE,  so I have added f & g in lit2\n"
     ]
    }
   ],
   "source": [
    "print(\" LIST INDEX IS OUT OF RANGE,  so I have added f & g in lit2\")"
   ]
  },
  {
   "cell_type": "code",
   "execution_count": 3,
   "metadata": {},
   "outputs": [
    {
     "name": "stdout",
     "output_type": "stream",
     "text": [
      "Original key list is : [1, 2, 3, 4, 5, 7, 8]\n",
      "Original value list is : ['a', 'b', 'c', 'd', 'e', 'f', 'g']\n",
      "Resultant dictionary is: {1: 'a', 2: 'b', 3: 'c', 4: 'd', 5: 'e', 7: 'f', 8: 'g'}\n"
     ]
    }
   ],
   "source": [
    "test_keys =[1,2,3,4,5,7,8]\n",
    "test_values=[\"a\",\"b\",\"c\",\"d\",\"e\",\"f\",\"g\"]\n",
    "print(\"Original key list is : \" + str(test_keys))\n",
    "print(\"Original value list is : \" + str(test_values))\n",
    "res = { test_keys[i] : test_values[i] for i in range (len(test_keys))}\n",
    "print(\"Resultant dictionary is: \" + str(res))  \n"
   ]
  },
  {
   "cell_type": "code",
   "execution_count": null,
   "metadata": {},
   "outputs": [],
   "source": []
  }
 ],
 "metadata": {
  "kernelspec": {
   "display_name": "Python 3",
   "language": "python",
   "name": "python3"
  },
  "language_info": {
   "codemirror_mode": {
    "name": "ipython",
    "version": 3
   },
   "file_extension": ".py",
   "mimetype": "text/x-python",
   "name": "python",
   "nbconvert_exporter": "python",
   "pygments_lexer": "ipython3",
   "version": "3.7.6"
  }
 },
 "nbformat": 4,
 "nbformat_minor": 4
}
